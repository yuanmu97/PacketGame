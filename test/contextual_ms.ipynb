{
 "cells": [
  {
   "cell_type": "code",
   "execution_count": 1,
   "metadata": {},
   "outputs": [],
   "source": [
    "import sys\n",
    "sys.path.append(\"../src\")\n",
    "import mindspore\n",
    "import numpy as np\n",
    "from contextual_ms import Conv1dTwoview, EnsembleThreeview"
   ]
  },
  {
   "cell_type": "code",
   "execution_count": 2,
   "metadata": {},
   "outputs": [
    {
     "name": "stdout",
     "output_type": "stream",
     "text": [
      "Conv1dTwoview<\n",
      "  (view1_layers): CellList<\n",
      "    (0): Conv1d<input_channels=5, output_channels=32, kernel_size=(1, 1), stride=(1, 1), pad_mode=valid, padding=(0, 0, 0, 0), dilation=(1, 1), group=1, has_bias=True, weight_init=normal, bias_init=zeros, format=NCHW>\n",
      "    (1): ReLU<>\n",
      "    (2): Conv1d<input_channels=32, output_channels=32, kernel_size=(1, 1), stride=(1, 1), pad_mode=valid, padding=(0, 0, 0, 0), dilation=(1, 1), group=1, has_bias=True, weight_init=normal, bias_init=zeros, format=NCHW>\n",
      "    (3): ReLU<>\n",
      "    (4): AdaptiveMaxPool1d<>\n",
      "    >\n",
      "  (view2_layers): CellList<\n",
      "    (0): Conv1d<input_channels=5, output_channels=32, kernel_size=(1, 1), stride=(1, 1), pad_mode=valid, padding=(0, 0, 0, 0), dilation=(1, 1), group=1, has_bias=True, weight_init=normal, bias_init=zeros, format=NCHW>\n",
      "    (1): ReLU<>\n",
      "    (2): Conv1d<input_channels=32, output_channels=32, kernel_size=(1, 1), stride=(1, 1), pad_mode=valid, padding=(0, 0, 0, 0), dilation=(1, 1), group=1, has_bias=True, weight_init=normal, bias_init=zeros, format=NCHW>\n",
      "    (3): ReLU<>\n",
      "    (4): AdaptiveMaxPool1d<>\n",
      "    >\n",
      "  (dense): Dense<input_channels=64, output_channels=1, has_bias=True>\n",
      "  (sigmoid): Sigmoid<>\n",
      "  >\n"
     ]
    },
    {
     "data": {
      "text/plain": [
       "(1, 1)"
      ]
     },
     "execution_count": 2,
     "metadata": {},
     "output_type": "execute_result"
    }
   ],
   "source": [
    "net = Conv1dTwoview(inp_len1=5, inp_len2=5, conv_units=[32, 32])\n",
    "print(net)\n",
    "x1 = mindspore.Tensor(np.ones([1, 5, 1]), mindspore.float32)\n",
    "x2 = mindspore.Tensor(np.ones([1, 5, 1]), mindspore.float32)\n",
    "net(x1, x2).shape"
   ]
  },
  {
   "cell_type": "code",
   "execution_count": 3,
   "metadata": {},
   "outputs": [
    {
     "name": "stdout",
     "output_type": "stream",
     "text": [
      "EnsembleThreeview<\n",
      "  (view1_layers): CellList<\n",
      "    (0): Conv1d<input_channels=5, output_channels=32, kernel_size=(1, 1), stride=(1, 1), pad_mode=valid, padding=(0, 0, 0, 0), dilation=(1, 1), group=1, has_bias=True, weight_init=normal, bias_init=zeros, format=NCHW>\n",
      "    (1): ReLU<>\n",
      "    (2): Conv1d<input_channels=32, output_channels=32, kernel_size=(1, 1), stride=(1, 1), pad_mode=valid, padding=(0, 0, 0, 0), dilation=(1, 1), group=1, has_bias=True, weight_init=normal, bias_init=zeros, format=NCHW>\n",
      "    (3): ReLU<>\n",
      "    (4): AdaptiveMaxPool1d<>\n",
      "    >\n",
      "  (view2_layers): CellList<\n",
      "    (0): Conv1d<input_channels=5, output_channels=32, kernel_size=(1, 1), stride=(1, 1), pad_mode=valid, padding=(0, 0, 0, 0), dilation=(1, 1), group=1, has_bias=True, weight_init=normal, bias_init=zeros, format=NCHW>\n",
      "    (1): ReLU<>\n",
      "    (2): Conv1d<input_channels=32, output_channels=32, kernel_size=(1, 1), stride=(1, 1), pad_mode=valid, padding=(0, 0, 0, 0), dilation=(1, 1), group=1, has_bias=True, weight_init=normal, bias_init=zeros, format=NCHW>\n",
      "    (3): ReLU<>\n",
      "    (4): AdaptiveMaxPool1d<>\n",
      "    >\n",
      "  (dense): Dense<input_channels=64, output_channels=1, has_bias=True>\n",
      "  (sigmoid): Sigmoid<>\n",
      "  (dense2): Dense<input_channels=2, output_channels=128, has_bias=True>\n",
      "  (relu): ReLU<>\n",
      "  (dense3): Dense<input_channels=128, output_channels=1, has_bias=True>\n",
      "  >\n"
     ]
    },
    {
     "data": {
      "text/plain": [
       "(1, 1)"
      ]
     },
     "execution_count": 3,
     "metadata": {},
     "output_type": "execute_result"
    }
   ],
   "source": [
    "net = EnsembleThreeview(inp_len1=5, inp_len2=5, inp_len3=1, conv_units=[32, 32], dense_unit=128)\n",
    "print(net)\n",
    "x1 = mindspore.Tensor(np.ones([1, 5, 1]), mindspore.float32)\n",
    "x2 = mindspore.Tensor(np.ones([1, 5, 1]), mindspore.float32)\n",
    "x3 = mindspore.Tensor(np.ones([1, 1]), mindspore.float32)\n",
    "net(x1, x2, x3).shape"
   ]
  },
  {
   "cell_type": "code",
   "execution_count": 12,
   "metadata": {},
   "outputs": [
    {
     "name": "stdout",
     "output_type": "stream",
     "text": [
      "Parameter (name=view1_layers.0.weight, shape=(32, 5, 1, 1), dtype=Float32, requires_grad=True) 160\n",
      "Parameter (name=view1_layers.0.bias, shape=(32,), dtype=Float32, requires_grad=True) 32\n",
      "Parameter (name=view1_layers.2.weight, shape=(32, 32, 1, 1), dtype=Float32, requires_grad=True) 1024\n",
      "Parameter (name=view1_layers.2.bias, shape=(32,), dtype=Float32, requires_grad=True) 32\n",
      "Parameter (name=view2_layers.0.weight, shape=(32, 5, 1, 1), dtype=Float32, requires_grad=True) 160\n",
      "Parameter (name=view2_layers.0.bias, shape=(32,), dtype=Float32, requires_grad=True) 32\n",
      "Parameter (name=view2_layers.2.weight, shape=(32, 32, 1, 1), dtype=Float32, requires_grad=True) 1024\n",
      "Parameter (name=view2_layers.2.bias, shape=(32,), dtype=Float32, requires_grad=True) 32\n",
      "Parameter (name=dense.weight, shape=(1, 64), dtype=Float32, requires_grad=True) 64\n",
      "Parameter (name=dense.bias, shape=(1,), dtype=Float32, requires_grad=True) 1\n",
      "Parameter (name=dense2.weight, shape=(128, 2), dtype=Float32, requires_grad=True) 256\n",
      "Parameter (name=dense2.bias, shape=(128,), dtype=Float32, requires_grad=True) 128\n",
      "Parameter (name=dense3.weight, shape=(1, 128), dtype=Float32, requires_grad=True) 128\n",
      "Parameter (name=dense3.bias, shape=(1,), dtype=Float32, requires_grad=True) 1\n"
     ]
    },
    {
     "data": {
      "text/plain": [
       "3074"
      ]
     },
     "execution_count": 12,
     "metadata": {},
     "output_type": "execute_result"
    }
   ],
   "source": [
    "total_params = 0\n",
    "for v in net.parameters_dict().values():\n",
    "    print(v, v.size)\n",
    "    total_params += v.size\n",
    "total_params"
   ]
  },
  {
   "cell_type": "code",
   "execution_count": null,
   "metadata": {},
   "outputs": [],
   "source": []
  }
 ],
 "metadata": {
  "kernelspec": {
   "display_name": "wfilter",
   "language": "python",
   "name": "wfilter"
  },
  "language_info": {
   "codemirror_mode": {
    "name": "ipython",
    "version": 3
   },
   "file_extension": ".py",
   "mimetype": "text/x-python",
   "name": "python",
   "nbconvert_exporter": "python",
   "pygments_lexer": "ipython3",
   "version": "3.7.10"
  }
 },
 "nbformat": 4,
 "nbformat_minor": 4
}
